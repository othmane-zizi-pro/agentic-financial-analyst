{
 "cells": [
  {
   "cell_type": "markdown",
   "metadata": {},
   "source": [
    "# Financial Analyst Agent - Example Usage\n",
    "\n",
    "This notebook demonstrates how to use the Financial Analyst Agent tools and interface.\n",
    "\n",
    "**Note:** For the full agent with LLM capabilities, run this in Databricks with Foundation Model API access."
   ]
  },
  {
   "cell_type": "markdown",
   "metadata": {},
   "source": [
    "## Setup"
   ]
  },
  {
   "cell_type": "code",
   "execution_count": null,
   "metadata": {},
   "outputs": [],
   "source": [
    "# Install dependencies (uncomment if needed)\n",
    "# !pip install yfinance pandas requests beautifulsoup4 gradio\n",
    "\n",
    "import sys\n",
    "sys.path.append('./financial_agent')"
   ]
  },
  {
   "cell_type": "markdown",
   "metadata": {},
   "source": [
    "## 1. Financial Metrics Tool\n",
    "\n",
    "Fetch comprehensive financial metrics for any company."
   ]
  },
  {
   "cell_type": "code",
   "execution_count": null,
   "metadata": {},
   "outputs": [],
   "source": [
    "from tools import get_financial_metrics_tool\n",
    "\n",
    "# Initialize tool\n",
    "financial_tool = get_financial_metrics_tool()\n",
    "\n",
    "# Get summary metrics for Apple\n",
    "result = financial_tool(ticker=\"AAPL\", metrics_type=\"summary\")\n",
    "print(result)"
   ]
  },
  {
   "cell_type": "code",
   "execution_count": null,
   "metadata": {},
   "outputs": [],
   "source": [
    "# Get financial ratios for Tesla\n",
    "result = financial_tool(ticker=\"TSLA\", metrics_type=\"ratios\")\n",
    "print(result)"
   ]
  },
  {
   "cell_type": "markdown",
   "metadata": {},
   "source": [
    "## 2. M&A Analysis Tool\n",
    "\n",
    "Analyze merger and acquisition activity for companies and their peers."
   ]
  },
  {
   "cell_type": "code",
   "execution_count": null,
   "metadata": {},
   "outputs": [],
   "source": [
    "from tools import get_ma_tool\n",
    "\n",
    "# Initialize tool\n",
    "ma_tool = get_ma_tool()\n",
    "\n",
    "# Analyze M&A activity for Microsoft\n",
    "result = ma_tool(ticker=\"MSFT\")\n",
    "print(result)"
   ]
  },
  {
   "cell_type": "markdown",
   "metadata": {},
   "source": [
    "## 3. SWOT Analysis Tool\n",
    "\n",
    "Generate comprehensive SWOT analysis for any company."
   ]
  },
  {
   "cell_type": "code",
   "execution_count": null,
   "metadata": {},
   "outputs": [],
   "source": [
    "from tools import get_swot_tool\n",
    "\n",
    "# Initialize tool\n",
    "swot_tool = get_swot_tool()\n",
    "\n",
    "# Generate SWOT for NVIDIA\n",
    "result = swot_tool(ticker=\"NVDA\")\n",
    "print(result)"
   ]
  },
  {
   "cell_type": "markdown",
   "metadata": {},
   "source": [
    "## 4. Full Agent (Databricks Only)\n",
    "\n",
    "**Note:** This section requires Databricks environment with Foundation Model API access."
   ]
  },
  {
   "cell_type": "code",
   "execution_count": null,
   "metadata": {},
   "outputs": [],
   "source": [
    "# Uncomment to test in Databricks\n",
    "# from agent import create_financial_agent\n",
    "\n",
    "# # Create agent\n",
    "# agent = create_financial_agent(\n",
    "#     model_name=\"databricks-dbrx-instruct\",\n",
    "#     temperature=0.1\n",
    "# )\n",
    "\n",
    "# # Ask a question\n",
    "# response = agent.query(\"Compare the financial health of Apple and Microsoft\")\n",
    "# print(response[\"output\"])"
   ]
  },
  {
   "cell_type": "markdown",
   "metadata": {},
   "source": [
    "## 5. Comparative Analysis\n",
    "\n",
    "Compare multiple companies side by side."
   ]
  },
  {
   "cell_type": "code",
   "execution_count": null,
   "metadata": {},
   "outputs": [],
   "source": [
    "import pandas as pd\n",
    "\n",
    "# Compare tech giants\n",
    "companies = [\"AAPL\", \"MSFT\", \"GOOGL\", \"META\", \"AMZN\"]\n",
    "\n",
    "# You could build a comparison here using the tools\n",
    "for ticker in companies:\n",
    "    print(f\"\\n{'='*70}\")\n",
    "    print(f\"Analysis for {ticker}\")\n",
    "    print('='*70)\n",
    "    result = financial_tool(ticker=ticker, metrics_type=\"summary\")\n",
    "    print(result[:500])  # Print first 500 chars"
   ]
  },
  {
   "cell_type": "markdown",
   "metadata": {},
   "source": [
    "## 6. Launch UI (Optional)\n",
    "\n",
    "Launch the Gradio interface for interactive analysis."
   ]
  },
  {
   "cell_type": "code",
   "execution_count": null,
   "metadata": {},
   "outputs": [],
   "source": [
    "# Uncomment to launch UI\n",
    "# from ui import launch_app\n",
    "\n",
    "# launch_app(share=False, server_port=7860)"
   ]
  },
  {
   "cell_type": "markdown",
   "metadata": {},
   "source": [
    "## Next Steps\n",
    "\n",
    "1. **Test all tools** with different companies\n",
    "2. **Deploy to Databricks** following QUICKSTART.md\n",
    "3. **Customize** the agent for your specific use case\n",
    "4. **Share** with your team via Databricks App\n",
    "\n",
    "For deployment instructions, see:\n",
    "- [Quick Start Guide](QUICKSTART.md)\n",
    "- [Deployment Guide](DEPLOYMENT_GUIDE.md)"
   ]
  }
 ],
 "metadata": {
  "kernelspec": {
   "display_name": "Python 3",
   "language": "python",
   "name": "python3"
  },
  "language_info": {
   "codemirror_mode": {
    "name": "ipython",
    "version": 3
   },
   "file_extension": ".py",
   "mimetype": "text/x-python",
   "name": "python",
   "nbconvert_exporter": "python",
   "pygments_lexer": "ipython3",
   "version": "3.9.0"
  }
 },
 "nbformat": 4,
 "nbformat_minor": 4
}
